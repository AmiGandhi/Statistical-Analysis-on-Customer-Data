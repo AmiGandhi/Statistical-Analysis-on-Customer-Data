{
 "cells": [
  {
   "cell_type": "markdown",
   "metadata": {},
   "source": [
    "### Name: Ami Gandhi\n",
    "### Email: gandhi.am@husky.neu.edu"
   ]
  },
  {
   "cell_type": "markdown",
   "metadata": {},
   "source": [
    "### Importing necessary libraries "
   ]
  },
  {
   "cell_type": "code",
   "execution_count": 1,
   "metadata": {},
   "outputs": [],
   "source": [
    "import pandas as pd\n",
    "import numpy as np\n",
    "import os\n",
    "import datetime\n",
    "import seaborn as sns\n",
    "import pylab\n",
    "import warnings\n",
    "warnings.filterwarnings('ignore')\n",
    "%matplotlib inline\n",
    "import matplotlib.pyplot as plt\n",
    "from scipy.stats import ttest_ind,probplot,mannwhitneyu,levene\n",
    "from sklearn.metrics import confusion_matrix,roc_auc_score,classification_report"
   ]
  },
  {
   "cell_type": "code",
   "execution_count": 2,
   "metadata": {},
   "outputs": [],
   "source": [
    "# Defining required functions\n",
    "\n",
    "def readCsv(workdir, filePath):\n",
    "    \"\"\"\n",
    "    Description: Function to read csv files.\n",
    "    Input: Filepath\n",
    "    Output: Dataframe with csv data\n",
    "    \"\"\"\n",
    "    raw_data_path = os.path.join(workdir, filePath)\n",
    "    data = pd.read_csv(raw_data_path)\n",
    "    return data\n",
    "\n",
    "def getWeekNumber(dataframe): \n",
    "    \"\"\"\n",
    "    Description: Function to get week number from date.\n",
    "    Input: dataframe with date column\n",
    "    Output: Dataframe with week number column\n",
    "    \"\"\"\n",
    "    dataframe['Week_Number'] = dataframe['date'].dt.week\n",
    "    return dataframe\n",
    "\n",
    "def meanOrderValue(dataframe, gender):\n",
    "    \"\"\"\n",
    "    Description: Function to get mean value of column.\n",
    "    Input: data and gender(0 or 1)\n",
    "    Output: value of mean\n",
    "    \"\"\"\n",
    "    return dataframe[dataframe['gender']==gender].value.mean()"
   ]
  },
  {
   "cell_type": "code",
   "execution_count": 3,
   "metadata": {},
   "outputs": [],
   "source": [
    "workdir = os.getcwd()\n",
    "data = readCsv(workdir, 'screening_exercise_orders_v201810.csv')"
   ]
  },
  {
   "cell_type": "code",
   "execution_count": 4,
   "metadata": {},
   "outputs": [
    {
     "name": "stdout",
     "output_type": "stream",
     "text": [
      "<class 'pandas.core.frame.DataFrame'>\n",
      "RangeIndex: 13471 entries, 0 to 13470\n",
      "Data columns (total 5 columns):\n",
      "customer_id         13471 non-null int64\n",
      "gender              13471 non-null int64\n",
      "date                13471 non-null object\n",
      "value               13471 non-null float64\n",
      "predicted_gender    13471 non-null int64\n",
      "dtypes: float64(1), int64(3), object(1)\n",
      "memory usage: 526.3+ KB\n"
     ]
    }
   ],
   "source": [
    "# understanding data\n",
    "data.info()"
   ]
  },
  {
   "cell_type": "code",
   "execution_count": 5,
   "metadata": {},
   "outputs": [],
   "source": [
    "# Transforming date column to datetime\n",
    "data['date'] = pd.to_datetime(data['date'], format= \"%Y-%m-%d %H:%M:%S\")"
   ]
  },
  {
   "cell_type": "markdown",
   "metadata": {},
   "source": [
    "### Data analysis and arranging data in following format:\n",
    "1. Customer_id\n",
    "2. gender\n",
    "3. Most_recent_order_date\n",
    "4. order_count (number of orders placed by this customer)\n",
    "\n",
    "Sorting the dataframe by customer_id in ascending order and displaying the first 10 records."
   ]
  },
  {
   "cell_type": "code",
   "execution_count": 6,
   "metadata": {},
   "outputs": [
    {
     "data": {
      "text/html": [
       "<div>\n",
       "<style scoped>\n",
       "    .dataframe tbody tr th:only-of-type {\n",
       "        vertical-align: middle;\n",
       "    }\n",
       "\n",
       "    .dataframe tbody tr th {\n",
       "        vertical-align: top;\n",
       "    }\n",
       "\n",
       "    .dataframe thead th {\n",
       "        text-align: right;\n",
       "    }\n",
       "</style>\n",
       "<table border=\"1\" class=\"dataframe\">\n",
       "  <thead>\n",
       "    <tr style=\"text-align: right;\">\n",
       "      <th></th>\n",
       "      <th>customer_id</th>\n",
       "      <th>gender</th>\n",
       "      <th>most_recent_order_date</th>\n",
       "      <th>order_count</th>\n",
       "    </tr>\n",
       "  </thead>\n",
       "  <tbody>\n",
       "    <tr>\n",
       "      <th>0</th>\n",
       "      <td>1000</td>\n",
       "      <td>0</td>\n",
       "      <td>2017-01-01 00:11:31</td>\n",
       "      <td>1.0</td>\n",
       "    </tr>\n",
       "    <tr>\n",
       "      <th>1</th>\n",
       "      <td>1001</td>\n",
       "      <td>0</td>\n",
       "      <td>2017-01-01 00:29:56</td>\n",
       "      <td>1.0</td>\n",
       "    </tr>\n",
       "    <tr>\n",
       "      <th>2</th>\n",
       "      <td>1002</td>\n",
       "      <td>1</td>\n",
       "      <td>2017-02-19 21:35:31</td>\n",
       "      <td>3.0</td>\n",
       "    </tr>\n",
       "    <tr>\n",
       "      <th>3</th>\n",
       "      <td>1003</td>\n",
       "      <td>1</td>\n",
       "      <td>2017-04-26 02:37:20</td>\n",
       "      <td>4.0</td>\n",
       "    </tr>\n",
       "    <tr>\n",
       "      <th>4</th>\n",
       "      <td>1004</td>\n",
       "      <td>0</td>\n",
       "      <td>2017-01-01 03:11:54</td>\n",
       "      <td>1.0</td>\n",
       "    </tr>\n",
       "    <tr>\n",
       "      <th>5</th>\n",
       "      <td>1005</td>\n",
       "      <td>1</td>\n",
       "      <td>2017-12-16 01:39:27</td>\n",
       "      <td>2.0</td>\n",
       "    </tr>\n",
       "    <tr>\n",
       "      <th>6</th>\n",
       "      <td>1006</td>\n",
       "      <td>1</td>\n",
       "      <td>2017-05-09 15:27:20</td>\n",
       "      <td>3.0</td>\n",
       "    </tr>\n",
       "    <tr>\n",
       "      <th>7</th>\n",
       "      <td>1007</td>\n",
       "      <td>0</td>\n",
       "      <td>2017-01-01 15:59:50</td>\n",
       "      <td>1.0</td>\n",
       "    </tr>\n",
       "    <tr>\n",
       "      <th>8</th>\n",
       "      <td>1008</td>\n",
       "      <td>0</td>\n",
       "      <td>2017-12-17 05:47:48</td>\n",
       "      <td>3.0</td>\n",
       "    </tr>\n",
       "    <tr>\n",
       "      <th>9</th>\n",
       "      <td>1009</td>\n",
       "      <td>1</td>\n",
       "      <td>2017-01-01 19:27:17</td>\n",
       "      <td>1.0</td>\n",
       "    </tr>\n",
       "  </tbody>\n",
       "</table>\n",
       "</div>"
      ],
      "text/plain": [
       "   customer_id  gender most_recent_order_date  order_count\n",
       "0         1000       0    2017-01-01 00:11:31          1.0\n",
       "1         1001       0    2017-01-01 00:29:56          1.0\n",
       "2         1002       1    2017-02-19 21:35:31          3.0\n",
       "3         1003       1    2017-04-26 02:37:20          4.0\n",
       "4         1004       0    2017-01-01 03:11:54          1.0\n",
       "5         1005       1    2017-12-16 01:39:27          2.0\n",
       "6         1006       1    2017-05-09 15:27:20          3.0\n",
       "7         1007       0    2017-01-01 15:59:50          1.0\n",
       "8         1008       0    2017-12-17 05:47:48          3.0\n",
       "9         1009       1    2017-01-01 19:27:17          1.0"
      ]
     },
     "execution_count": 6,
     "metadata": {},
     "output_type": "execute_result"
    }
   ],
   "source": [
    "dataInFormat = data.groupby('customer_id') \\\n",
    "                .agg({'gender':np.max,'date': np.max,'value': np.size}) \\\n",
    "                .rename(columns={'date':'most_recent_order_date','value':'order_count'}) \\\n",
    "                .reset_index()\n",
    "dataInFormat.head(10)"
   ]
  },
  {
   "cell_type": "markdown",
   "metadata": {},
   "source": [
    "### Counting of number of orders per week"
   ]
  },
  {
   "cell_type": "code",
   "execution_count": 8,
   "metadata": {},
   "outputs": [
    {
     "data": {
      "image/png": "[encoded data removed]",
      "text/plain": [
       "<Figure size 432x288 with 1 Axes>"
      ]
     },
     "metadata": {
      "needs_background": "light"
     },
     "output_type": "display_data"
    }
   ],
   "source": [
    "dataWithWeekNumber = getWeekNumber(data)\n",
    "dataToPlot = dataWithWeekNumber.groupby('Week_Number').agg({'value': np.size}).reset_index()\n",
    "dataToPlot.head()\n",
    "plt.plot(dataToPlot['Week_Number'] , dataToPlot['value'])\n",
    "plt.title('Distribution of orders per week')\n",
    "plt.xlabel('Number of weeks')\n",
    "plt.ylabel('Number of orders')\n",
    "plt.show()"
   ]
  },
  {
   "cell_type": "markdown",
   "metadata": {},
   "source": [
    "**OBSERVATION:**\n",
    "\n",
    "The above plot is week number Vs order count for the year 2017. \n",
    "1. Week 20 was the most successful week in terms for order count\n",
    "2. The lowest order count was in week 43 which is in the month of October and increases in the week of 47 which is the Black Friday week of the month."
   ]
  },
  {
   "cell_type": "markdown",
   "metadata": {},
   "source": [
    "#### Computing the mean order value for gender 0 and gender 1. Statistical inference on whether it is significant or not.\n",
    "\n",
    "Assuming significance level 5% throughout to interpret the test results "
   ]
  },
  {
   "cell_type": "code",
   "execution_count": 9,
   "metadata": {},
   "outputs": [
    {
     "name": "stdout",
     "output_type": "stream",
     "text": [
      "Mean of gender 0 is: 363.89000591803506\n",
      "Mean of gender 1 is: 350.70836114422\n"
     ]
    }
   ],
   "source": [
    "print('Mean of gender 0 is: {0}'.format(meanOrderValue(data,0)))\n",
    "print('Mean of gender 1 is: {0}'.format(meanOrderValue(data,1)))"
   ]
  },
  {
   "cell_type": "code",
   "execution_count": 10,
   "metadata": {},
   "outputs": [
    {
     "name": "stdout",
     "output_type": "stream",
     "text": [
      "Total number of rows for gender 0 is 6759\n",
      "Total number of rows for gender 1 is 6712\n",
      "Variance of gender 0 is 157215.32713916257\n",
      "Variance of gender 1 is 142488.59472913775\n"
     ]
    }
   ],
   "source": [
    "gender_0 = data[data[\"gender\"]==0].value.values\n",
    "gender_1 = data[data[\"gender\"]==1].value.values\n",
    "print('Total number of rows for gender 0 is {0}'.format(len(gender_0)))\n",
    "print('Total number of rows for gender 1 is {0}'.format(len(gender_1)))\n",
    "print('Variance of gender 0 is {0}'.format(np.var(gender_0)))\n",
    "print('Variance of gender 1 is {0}'.format(np.var(gender_1)))"
   ]
  },
  {
   "cell_type": "markdown",
   "metadata": {},
   "source": [
    "Now let's look at the data distribution for both the genders."
   ]
  },
  {
   "cell_type": "code",
   "execution_count": 11,
   "metadata": {},
   "outputs": [
    {
     "data": {
      "text/plain": [
       "<matplotlib.axes._subplots.AxesSubplot at 0x2d6afedf518>"
      ]
     },
     "execution_count": 11,
     "metadata": {},
     "output_type": "execute_result"
    },
    {
     "data": {
      "image/png": "[encoded data removed]",
      "text/plain": [
       "<Figure size 432x288 with 1 Axes>"
      ]
     },
     "metadata": {
      "needs_background": "light"
     },
     "output_type": "display_data"
    }
   ],
   "source": [
    "sns.distplot(gender_0)\n",
    "# As observed data is right skewed and not normally distributed"
   ]
  },
  {
   "cell_type": "code",
   "execution_count": 12,
   "metadata": {},
   "outputs": [
    {
     "data": {
      "text/plain": [
       "<matplotlib.axes._subplots.AxesSubplot at 0x2d6b00959e8>"
      ]
     },
     "execution_count": 12,
     "metadata": {},
     "output_type": "execute_result"
    },
    {
     "data": {
      "image/png": "[encoded data removed]",
      "text/plain": [
       "<Figure size 432x288 with 1 Axes>"
      ]
     },
     "metadata": {
      "needs_background": "light"
     },
     "output_type": "display_data"
    }
   ],
   "source": [
    "sns.distplot(gender_1)\n",
    "# As observed data is right skewed and not normally distributed"
   ]
  },
  {
   "cell_type": "markdown",
   "metadata": {},
   "source": [
    "**OBSERVATION:**\n",
    "\n",
    "The above plots show that data is skewed towards the right. This is due to the fact that there are outliers in the data. Let us perform some analysis for the same."
   ]
  },
  {
   "cell_type": "markdown",
   "metadata": {},
   "source": [
    "### Outlier analysis"
   ]
  },
  {
   "cell_type": "code",
   "execution_count": 13,
   "metadata": {},
   "outputs": [
    {
     "data": {
      "image/png": "[encoded data removed]",
      "text/plain": [
       "<Figure size 432x288 with 1 Axes>"
      ]
     },
     "metadata": {
      "needs_background": "light"
     },
     "output_type": "display_data"
    }
   ],
   "source": [
    "b0 = plt.boxplot(gender_0)"
   ]
  },
  {
   "cell_type": "code",
   "execution_count": 14,
   "metadata": {},
   "outputs": [
    {
     "data": {
      "image/png": "[encoded data removed]",
      "text/plain": [
       "<Figure size 432x288 with 1 Axes>"
      ]
     },
     "metadata": {
      "needs_background": "light"
     },
     "output_type": "display_data"
    }
   ],
   "source": [
    "b1 = plt.boxplot(gender_1)"
   ]
  },
  {
   "cell_type": "markdown",
   "metadata": {},
   "source": [
    "**OBSERVATION:**\n",
    "\n",
    "Certain outliers are causing data distribution to be right skewed in both the cases as seen in above plots, hence let us remove the outliers and look at the distribution again."
   ]
  },
  {
   "cell_type": "code",
   "execution_count": 15,
   "metadata": {},
   "outputs": [],
   "source": [
    "def outlier_treatment(datacolumn):\n",
    "    sorted(datacolumn)\n",
    "    Q1,Q3 = np.percentile(datacolumn , [25,75])\n",
    "    IQR = Q3 - Q1\n",
    "    lower_range = Q1 - (1.5 * IQR)\n",
    "    upper_range = Q3 + (1.5 * IQR)\n",
    "    return lower_range,upper_range"
   ]
  },
  {
   "cell_type": "code",
   "execution_count": 16,
   "metadata": {},
   "outputs": [],
   "source": [
    "lowerbound_g0,upperbound_g0 = outlier_treatment(data[data[\"gender\"]==0].value)\n",
    "lowerbound_g1,upperbound_g1 = outlier_treatment(data[data[\"gender\"]==1].value)"
   ]
  },
  {
   "cell_type": "code",
   "execution_count": 17,
   "metadata": {},
   "outputs": [],
   "source": [
    "# removing outliers\n",
    "gender_0 = list(filter(lambda x: x!=0 and x<upperbound_g0,gender_0))\n",
    "gender_1 = list(filter(lambda x: x!=0 and x<upperbound_g1,gender_1))"
   ]
  },
  {
   "cell_type": "markdown",
   "metadata": {},
   "source": [
    "### Graphs after removing outliers"
   ]
  },
  {
   "cell_type": "code",
   "execution_count": 18,
   "metadata": {},
   "outputs": [
    {
     "data": {
      "text/plain": [
       "<matplotlib.axes._subplots.AxesSubplot at 0x2d6b22911d0>"
      ]
     },
     "execution_count": 18,
     "metadata": {},
     "output_type": "execute_result"
    },
    {
     "data": {
      "image/png": "[encoded data removed]",
      "text/plain": [
       "<Figure size 432x288 with 1 Axes>"
      ]
     },
     "metadata": {
      "needs_background": "light"
     },
     "output_type": "display_data"
    }
   ],
   "source": [
    "sns.distplot(gender_0)"
   ]
  },
  {
   "cell_type": "code",
   "execution_count": 19,
   "metadata": {},
   "outputs": [
    {
     "data": {
      "text/plain": [
       "<matplotlib.axes._subplots.AxesSubplot at 0x2d6b2333ef0>"
      ]
     },
     "execution_count": 19,
     "metadata": {},
     "output_type": "execute_result"
    },
    {
     "data": {
      "image/png": "[encoded data removed]",
      "text/plain": [
       "<Figure size 432x288 with 1 Axes>"
      ]
     },
     "metadata": {
      "needs_background": "light"
     },
     "output_type": "display_data"
    }
   ],
   "source": [
    "sns.distplot(gender_1)"
   ]
  },
  {
   "cell_type": "markdown",
   "metadata": {},
   "source": [
    "**OBSERVATION:**\n",
    "\n",
    "By observing above graphs after removing outliers, it looks like data is some what normally distributed but still not 100% normal. There are a lot of similar values because of which data still remains skewed. Hence, let us test if data is well normally distributed."
   ]
  },
  {
   "cell_type": "markdown",
   "metadata": {},
   "source": [
    "### Normality test using QQ-plot"
   ]
  },
  {
   "cell_type": "code",
   "execution_count": 20,
   "metadata": {},
   "outputs": [
    {
     "data": {
      "image/png": "[encoded data removed]",
      "text/plain": [
       "<Figure size 432x288 with 1 Axes>"
      ]
     },
     "metadata": {
      "needs_background": "light"
     },
     "output_type": "display_data"
    }
   ],
   "source": [
    "probplot(gender_0,plot=pylab)\n",
    "pylab.show()"
   ]
  },
  {
   "cell_type": "code",
   "execution_count": 21,
   "metadata": {},
   "outputs": [
    {
     "data": {
      "image/png": "[encoded data removed]",
      "text/plain": [
       "<Figure size 432x288 with 1 Axes>"
      ]
     },
     "metadata": {
      "needs_background": "light"
     },
     "output_type": "display_data"
    }
   ],
   "source": [
    "probplot(gender_1,plot=pylab)\n",
    "pylab.show()"
   ]
  },
  {
   "cell_type": "markdown",
   "metadata": {},
   "source": [
    "**Observation:**\n",
    "\n",
    "Above observation proves that data is not normally distributed. We can apply transformations to make the distribution normal, lets transform to data to check if it will be useful or not."
   ]
  },
  {
   "cell_type": "code",
   "execution_count": 22,
   "metadata": {},
   "outputs": [
    {
     "data": {
      "text/plain": [
       "<matplotlib.axes._subplots.AxesSubplot at 0x2d6b24a87f0>"
      ]
     },
     "execution_count": 22,
     "metadata": {},
     "output_type": "execute_result"
    },
    {
     "data": {
      "image/png": "[encoded data removed]",
      "text/plain": [
       "<Figure size 432x288 with 1 Axes>"
      ]
     },
     "metadata": {
      "needs_background": "light"
     },
     "output_type": "display_data"
    }
   ],
   "source": [
    "# adding 1 and applying log transformation to the data\n",
    "g0 = list(map(lambda x: x+1,gender_0))\n",
    "sns.distplot(np.log(g0))"
   ]
  },
  {
   "cell_type": "markdown",
   "metadata": {},
   "source": [
    "It seems current data can't be transformed to normal distribution by logarithmic transformation.\n",
    "\n",
    "Hence, I am considering our initial data distribution which seems almost normal and applying welch's t-test and student's t-test"
   ]
  },
  {
   "cell_type": "markdown",
   "metadata": {},
   "source": [
    "### Test to assess equality of variances "
   ]
  },
  {
   "cell_type": "code",
   "execution_count": 23,
   "metadata": {},
   "outputs": [
    {
     "data": {
      "text/plain": [
       "LeveneResult(statistic=10.180687580047902, pvalue=0.001422734017564412)"
      ]
     },
     "execution_count": 23,
     "metadata": {},
     "output_type": "execute_result"
    }
   ],
   "source": [
    "# Testing non-normal distribution for equal variances.\n",
    "levene(gender_0,gender_1)"
   ]
  },
  {
   "cell_type": "markdown",
   "metadata": {},
   "source": [
    "By referencing the p-value we can conclude that it is lower than significance level which is highly significant and hence, we reject null hypothesis and both gender 0 and gender 1 samples have unequal variances."
   ]
  },
  {
   "cell_type": "markdown",
   "metadata": {},
   "source": [
    "## Student's t-test"
   ]
  },
  {
   "cell_type": "code",
   "execution_count": 24,
   "metadata": {},
   "outputs": [
    {
     "name": "stdout",
     "output_type": "stream",
     "text": [
      "Value of t-statistic is: 1.885553384674115 and p-value is 0.05937856157167117\n"
     ]
    }
   ],
   "source": [
    "# Assumption: assuming gender_0 and gender_1 dataframe data distribution is normal.\n",
    "\n",
    "t,p = ttest_ind(gender_0,gender_1,equal_var=True)\n",
    "print('Value of t-statistic is: {0} and p-value is {1}'.format(t,p))"
   ]
  },
  {
   "cell_type": "markdown",
   "metadata": {},
   "source": [
    "## Welch's t-test"
   ]
  },
  {
   "cell_type": "code",
   "execution_count": 25,
   "metadata": {},
   "outputs": [
    {
     "name": "stdout",
     "output_type": "stream",
     "text": [
      "Value of t-statistic is: 1.8858076828170696 and p-value is 0.05934432126631661\n"
     ]
    }
   ],
   "source": [
    "t,p = ttest_ind(gender_0,gender_1,equal_var=False)\n",
    "print('Value of t-statistic is: {0} and p-value is {1}'.format(t,p))"
   ]
  },
  {
   "cell_type": "markdown",
   "metadata": {},
   "source": [
    "Observed p-value is 0.05937 and 0.5934 slightly higher than significance level 0.05 (5%), meaning it is not significant enough to reject the null hypothesis and conclude that there is not much significant difference between the two means of two groups."
   ]
  },
  {
   "cell_type": "markdown",
   "metadata": {},
   "source": [
    "## Mann-Whitney U test "
   ]
  },
  {
   "cell_type": "code",
   "execution_count": 26,
   "metadata": {},
   "outputs": [
    {
     "name": "stdout",
     "output_type": "stream",
     "text": [
      "p-value is 0.34990288916951917\n"
     ]
    }
   ],
   "source": [
    "u,p = mannwhitneyu(gender_0,gender_1,alternative='two-sided')\n",
    "print('p-value is {0}'.format(p))"
   ]
  },
  {
   "cell_type": "markdown",
   "metadata": {},
   "source": [
    "Here, the p-value is much higher than significance level which means that we cannot reject null hypothesis and hence means are equal. This observation is inline with the observation from welch's t-test and student's t-test."
   ]
  },
  {
   "cell_type": "markdown",
   "metadata": {},
   "source": [
    "#### Assuming a single gender prediction was made for each customer, let us generate a confusion matrix for predicted gender and understand what does this confusion matrix tell about the quality of the predictions."
   ]
  },
  {
   "cell_type": "markdown",
   "metadata": {},
   "source": [
    "Finding the confusion matrix for the given columns i.e. gender and predicted_gender"
   ]
  },
  {
   "cell_type": "code",
   "execution_count": 27,
   "metadata": {},
   "outputs": [],
   "source": [
    "cf = confusion_matrix(data['gender'],data['predicted_gender'])"
   ]
  },
  {
   "cell_type": "code",
   "execution_count": 28,
   "metadata": {},
   "outputs": [
    {
     "data": {
      "text/plain": [
       "<matplotlib.axes._subplots.AxesSubplot at 0x2d6b25aa668>"
      ]
     },
     "execution_count": 28,
     "metadata": {},
     "output_type": "execute_result"
    },
    {
     "data": {
      "image/png": "[encoded data removed]",
      "text/plain": [
       "<Figure size 432x288 with 2 Axes>"
      ]
     },
     "metadata": {
      "needs_background": "light"
     },
     "output_type": "display_data"
    }
   ],
   "source": [
    "sns.heatmap(cf,annot=True,fmt=\"d\")"
   ]
  },
  {
   "cell_type": "code",
   "execution_count": 29,
   "metadata": {},
   "outputs": [
    {
     "name": "stdout",
     "output_type": "stream",
     "text": [
      "              precision    recall  f1-score   support\n",
      "\n",
      "           0       0.70      0.50      0.58      6759\n",
      "           1       0.61      0.78      0.68      6712\n",
      "\n",
      "   micro avg       0.64      0.64      0.64     13471\n",
      "   macro avg       0.65      0.64      0.63     13471\n",
      "weighted avg       0.65      0.64      0.63     13471\n",
      "\n"
     ]
    }
   ],
   "source": [
    "print(classification_report(data['gender'],data['predicted_gender']))"
   ]
  },
  {
   "cell_type": "markdown",
   "metadata": {},
   "source": [
    "1. Precision is the ratio of tp/(tp+fp) where tp is number of true positives and fp is number of false positives. \n",
    "2. Recall is the ratio of tp/(tp+fn) where tp is number of true positives and fn is number of false negative.\n",
    "3. The F1 score can be interpreted as a weighted average of the precision and recall, where an F1 score reaches its best value at 1 and worst score at 0\n",
    "\n",
    "F1 = 2 * (precision * recall) / (precision + recall)"
   ]
  },
  {
   "cell_type": "code",
   "execution_count": 30,
   "metadata": {},
   "outputs": [
    {
     "data": {
      "text/plain": [
       "0.6387598396593356"
      ]
     },
     "execution_count": 30,
     "metadata": {},
     "output_type": "execute_result"
    }
   ],
   "source": [
    "roc_auc_score(data['gender'],data['predicted_gender']) "
   ]
  },
  {
   "cell_type": "markdown",
   "metadata": {
    "collapsed": true
   },
   "source": [
    "Since it is a binary classification (predicted gender = 0 or 1), a random guess has 50% chance of getting a correct answer. Here, we get an AUC score of 0.63 and precision of 0.70 for gender 0 and 0.61 for gender 1 which isn't a very good score for binary classifier and hence we can conclude that model isn't a good classifier."
   ]
  },
  {
   "cell_type": "markdown",
   "metadata": {},
   "source": [
    "#### ------------------------------------------------------------------THANK YOU---------------------------------------------------------------------------------"
   ]
  }
 ],
 "metadata": {
  "kernelspec": {
   "display_name": "Python 3",
   "language": "python",
   "name": "python3"
  },
  "language_info": {
   "codemirror_mode": {
    "name": "ipython",
    "version": 3
   },
   "file_extension": ".py",
   "mimetype": "text/x-python",
   "name": "python",
   "nbconvert_exporter": "python",
   "pygments_lexer": "ipython3",
   "version": "3.7.4"
  }
 },
 "nbformat": 4,
 "nbformat_minor": 2
}
